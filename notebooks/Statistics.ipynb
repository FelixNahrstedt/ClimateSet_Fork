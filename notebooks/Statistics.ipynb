{
 "cells": [
  {
   "cell_type": "code",
   "execution_count": null,
   "metadata": {},
   "outputs": [],
   "source": [
    "import numpy as np"
   ]
  },
  {
   "cell_type": "code",
   "execution_count": null,
   "metadata": {},
   "outputs": [],
   "source": [
    "d1 = np.random.rand(100, 10, 10)"
   ]
  },
  {
   "cell_type": "code",
   "execution_count": null,
   "metadata": {},
   "outputs": [],
   "source": [
    "d2 = np.random.rand(100, 10, 10)"
   ]
  },
  {
   "cell_type": "code",
   "execution_count": null,
   "metadata": {},
   "outputs": [],
   "source": [
    "stats = {'mean': d1, 'std': d2}"
   ]
  },
  {
   "cell_type": "code",
   "execution_count": null,
   "metadata": {},
   "outputs": [],
   "source": [
    "np.save('/home/mila/v/venkatesh.ramesh/scratch/causal_savedata/stats/temp.npy',stats, allow_pickle=True)"
   ]
  },
  {
   "cell_type": "code",
   "execution_count": null,
   "metadata": {},
   "outputs": [],
   "source": [
    "stat_data = np.load('/home/mila/v/venkatesh.ramesh/scratch/causal_savedata/stats/temp.npy', allow_pickle=True)"
   ]
  },
  {
   "cell_type": "code",
   "execution_count": null,
   "metadata": {},
   "outputs": [],
   "source": [
    "mean, std = stat_data.item()['mean'], stat_data.item()['std']"
   ]
  },
  {
   "cell_type": "code",
   "execution_count": null,
   "metadata": {},
   "outputs": [],
   "source": [
    "stats_dict = stat_data.item()"
   ]
  },
  {
   "cell_type": "code",
   "execution_count": null,
   "metadata": {},
   "outputs": [],
   "source": [
    "stats_dict"
   ]
  },
  {
   "cell_type": "markdown",
   "metadata": {},
   "source": [
    "### Calculating statistics"
   ]
  },
  {
   "cell_type": "code",
   "execution_count": null,
   "metadata": {},
   "outputs": [],
   "source": [
    "X_stat = X_train.copy()\n",
    "print(X_stat.shape)\n",
    "\n",
    "vars_mean = np.mean(X_stat, axis=(1, 2, 3))\n",
    "vars_std = np.std(X_stat, axis=(1, 2, 3))\n",
    "\n",
    "# vars_mean = np.expand_dims(vars_mean, (1, 2, 3))\n",
    "# vars_std = np.expand_dims(vars_std, (1, 2, 3))\n",
    "\n",
    "print(vars_mean.shape, vars_std.shape)\n",
    "\n",
    "print(vars_mean, vars_std)\n",
    "\n",
    "input_stats = np.concatenate((np.expand_dims(vars_mean, (-1, 1, 2, 3)), np.expand_dims(vars_std, (-1, 1, 2, 3))), axis=-1)\n",
    "\n",
    "input_stats\n",
    "\n",
    "x = np.array([3.1055716e-13, 1.9952876e-11, 2.7081224e-09, 3.1055716e-13])\n",
    "\n",
    "x = np.expand_dims(x, (1, 2, 3))\n",
    "print(x.shape)\n",
    "\n",
    "X_norm = (X_stat - vars_mean)/ vars_std\n",
    "\n",
    "print(X_norm.shape)\n",
    "\n",
    "y_train.shape\n",
    "\n",
    "out_mean = np.mean(y_train, axis=(1, 2, 3))\n",
    "out_std = np.mean(y_train, axis=(1, 2, 3))\n",
    "\n",
    "print(out_mean, out_std)\n",
    "\n",
    "y_norm = (y_train - out_mean)/(out_std)\n",
    "\n",
    "# (v - v.min()) / (v.max() - v.min())\n",
    "\n",
    "z = np.zeros((258, 12, 4, 96, 144))\n",
    "\n",
    "z = np.moveaxis(z, 2, 0)\n",
    "print(z.shape)\n",
    "\n",
    "z_max = np.min(z, (1, 2, 3, 4))\n",
    "\n",
    "print(z_max.shape)"
   ]
  }
 ],
 "metadata": {
  "kernelspec": {
   "display_name": "emulator",
   "language": "python",
   "name": "emulator"
  },
  "language_info": {
   "codemirror_mode": {
    "name": "ipython",
    "version": 3
   },
   "file_extension": ".py",
   "mimetype": "text/x-python",
   "name": "python",
   "nbconvert_exporter": "python",
   "pygments_lexer": "ipython3",
   "version": "3.10.11"
  }
 },
 "nbformat": 4,
 "nbformat_minor": 4
}
